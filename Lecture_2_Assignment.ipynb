{
 "cells": [
  {
   "cell_type": "markdown",
   "metadata": {
    "colab_type": "text",
    "id": "faGkpCP1H2SQ"
   },
   "source": [
    "### Assignment 1:\n",
    "\n",
    "*   **Q1** Create a List of 20 depth points by taking random floating point values between 0 and 10000.\n",
    "*   **Q2** Convert each float value in the depth list to integer data type.\n",
    "*    **Q3** Based on the depth values, Create a dictionary, containing values for two keys \"Shallow\" and \"Deep\".\n",
    "\n",
    ">  Put depths less than 5000 in \"Shallow\" key ( Multiple values can be combined as tuple,set or list )\n",
    "\n",
    "> Put depths greater than or equal to 5000 in \"Deep\" key\n",
    "\n",
    "\n",
    "*    **Q4** Count the Values in each key ( How many depths values are in Shallow & Deep ? )\n"
   ]
  },
  {
   "cell_type": "markdown",
   "metadata": {
    "colab_type": "text",
    "id": "4hPkBQIzKan1"
   },
   "source": [
    "#### Q1"
   ]
  },
  {
   "cell_type": "code",
   "execution_count": 6,
   "metadata": {
    "colab": {},
    "colab_type": "code",
    "id": "aZgrIXy7EyB3"
   },
   "outputs": [],
   "source": [
    "#Create a list of 20 depth points\n",
    "list_len = 20\n",
    "# Write your code below to generate random floating point values between 0 and 10000.\n",
    "import random\n",
    "list_length=[]\n",
    "for i in range(list_len):\n",
    "    x=random.uniform(0,10001)\n",
    "    list_length.append(x)\n",
    "    "
   ]
  },
  {
   "cell_type": "code",
   "execution_count": 7,
   "metadata": {},
   "outputs": [
    {
     "data": {
      "text/plain": [
       "[7827.709227354047,\n",
       " 1775.2834811481591,\n",
       " 8965.076170202166,\n",
       " 1226.225949066569,\n",
       " 8030.305544902996,\n",
       " 3808.033930455365,\n",
       " 8553.994408956542,\n",
       " 5866.907643101348,\n",
       " 9500.919708869184,\n",
       " 9563.317360400188,\n",
       " 9909.90474855627,\n",
       " 133.02105483961694,\n",
       " 9945.030937301339,\n",
       " 8203.047074734417,\n",
       " 398.16197285564857,\n",
       " 7459.892779598691,\n",
       " 5534.512690850889,\n",
       " 9801.700243293222,\n",
       " 8135.196914308655,\n",
       " 8478.476534504096]"
      ]
     },
     "execution_count": 7,
     "metadata": {},
     "output_type": "execute_result"
    }
   ],
   "source": [
    "list_length"
   ]
  },
  {
   "cell_type": "markdown",
   "metadata": {
    "colab_type": "text",
    "id": "pTaB3fiTMHVQ"
   },
   "source": [
    "#### Q2"
   ]
  },
  {
   "cell_type": "code",
   "execution_count": 8,
   "metadata": {
    "colab": {},
    "colab_type": "code",
    "id": "eWsKk4V_ML6h"
   },
   "outputs": [],
   "source": [
    "# Convert each float value in the depth list to integer data type. ( You can use int function on each value )\n",
    "depth_list=[]\n",
    "for i in list_length:\n",
    "    depth_list.append(int(i))"
   ]
  },
  {
   "cell_type": "code",
   "execution_count": 9,
   "metadata": {},
   "outputs": [
    {
     "data": {
      "text/plain": [
       "[7827,\n",
       " 1775,\n",
       " 8965,\n",
       " 1226,\n",
       " 8030,\n",
       " 3808,\n",
       " 8553,\n",
       " 5866,\n",
       " 9500,\n",
       " 9563,\n",
       " 9909,\n",
       " 133,\n",
       " 9945,\n",
       " 8203,\n",
       " 398,\n",
       " 7459,\n",
       " 5534,\n",
       " 9801,\n",
       " 8135,\n",
       " 8478]"
      ]
     },
     "execution_count": 9,
     "metadata": {},
     "output_type": "execute_result"
    }
   ],
   "source": [
    "depth_list"
   ]
  },
  {
   "cell_type": "markdown",
   "metadata": {
    "colab_type": "text",
    "id": "FHilu1EAMjWk"
   },
   "source": [
    "#### Q3"
   ]
  },
  {
   "cell_type": "code",
   "execution_count": 11,
   "metadata": {
    "colab": {},
    "colab_type": "code",
    "id": "TK3s7KYoMmWg"
   },
   "outputs": [],
   "source": [
    "# Create a dictionary, containing values for two keys \"Shallow\" and \"Deep\".\n",
    "depth_dict = {'Shallow':[],'Deep':[]}\n",
    "depth_dict['Shallow'] = []\n",
    "depth_dict['Deep'] = []\n",
    "for i in depth_list:\n",
    "    if i < 5000:\n",
    "        depth_dict['Shallow'].append(i)\n",
    "    else:\n",
    "        depth_dict['Deep'].append(i)"
   ]
  },
  {
   "cell_type": "code",
   "execution_count": 12,
   "metadata": {},
   "outputs": [
    {
     "data": {
      "text/plain": [
       "[1775, 1226, 3808, 133, 398]"
      ]
     },
     "execution_count": 12,
     "metadata": {},
     "output_type": "execute_result"
    }
   ],
   "source": [
    "depth_dict['Shallow']"
   ]
  },
  {
   "cell_type": "code",
   "execution_count": 13,
   "metadata": {},
   "outputs": [
    {
     "data": {
      "text/plain": [
       "[7827,\n",
       " 8965,\n",
       " 8030,\n",
       " 8553,\n",
       " 5866,\n",
       " 9500,\n",
       " 9563,\n",
       " 9909,\n",
       " 9945,\n",
       " 8203,\n",
       " 7459,\n",
       " 5534,\n",
       " 9801,\n",
       " 8135,\n",
       " 8478]"
      ]
     },
     "execution_count": 13,
     "metadata": {},
     "output_type": "execute_result"
    }
   ],
   "source": [
    "depth_dict['Deep']"
   ]
  },
  {
   "cell_type": "markdown",
   "metadata": {
    "colab_type": "text",
    "id": "ZCGb1h6XOIl5"
   },
   "source": [
    "#### Q4"
   ]
  },
  {
   "cell_type": "code",
   "execution_count": 14,
   "metadata": {
    "colab": {},
    "colab_type": "code",
    "id": "WIiFkxKlONPC"
   },
   "outputs": [
    {
     "data": {
      "text/plain": [
       "5"
      ]
     },
     "execution_count": 14,
     "metadata": {},
     "output_type": "execute_result"
    }
   ],
   "source": [
    "# Count the values in each key of depth_dict\n",
    "len(depth_dict['Shallow'])"
   ]
  },
  {
   "cell_type": "code",
   "execution_count": 15,
   "metadata": {},
   "outputs": [
    {
     "data": {
      "text/plain": [
       "15"
      ]
     },
     "execution_count": 15,
     "metadata": {},
     "output_type": "execute_result"
    }
   ],
   "source": [
    "len(depth_dict['Deep'])"
   ]
  },
  {
   "cell_type": "markdown",
   "metadata": {
    "colab_type": "text",
    "id": "va-aiS7mYKU4"
   },
   "source": [
    "### Assignment 2\n",
    "Define a function to calculate barrels of crude oil per metric ton, given the Specific Gravity."
   ]
  },
  {
   "cell_type": "code",
   "execution_count": 2,
   "metadata": {
    "colab": {},
    "colab_type": "code",
    "id": "Df7nuVPCeHtp"
   },
   "outputs": [],
   "source": [
    "# Specific Gravity is given\n",
    "SG = 0.9"
   ]
  },
  {
   "cell_type": "code",
   "execution_count": 3,
   "metadata": {
    "colab": {},
    "colab_type": "code",
    "id": "UYEipQYDO-Ia"
   },
   "outputs": [],
   "source": [
    "# Define your function\n",
    "def cal_barrels(SG):\n",
    "    density_water_pcf=62.4\n",
    "    density_pcf=density_water_pcf*SG\n",
    "    ton_lbm=2200\n",
    "    vol_cubicfeet=ton_lbm/density_pcf\n",
    "    vol_bbls=vol_cubicfeet/5.615,\n",
    "    return vol_bbls"
   ]
  },
  {
   "cell_type": "code",
   "execution_count": 4,
   "metadata": {},
   "outputs": [
    {
     "data": {
      "text/plain": [
       "(6.9766320879410815,)"
      ]
     },
     "execution_count": 4,
     "metadata": {},
     "output_type": "execute_result"
    }
   ],
   "source": [
    "cal_barrels(SG)"
   ]
  },
  {
   "cell_type": "code",
   "execution_count": null,
   "metadata": {},
   "outputs": [],
   "source": []
  }
 ],
 "metadata": {
  "colab": {
   "collapsed_sections": [],
   "name": "Lecture_2_Assignment.ipynb",
   "provenance": []
  },
  "kernelspec": {
   "display_name": "Python 3",
   "language": "python",
   "name": "python3"
  },
  "language_info": {
   "codemirror_mode": {
    "name": "ipython",
    "version": 3
   },
   "file_extension": ".py",
   "mimetype": "text/x-python",
   "name": "python",
   "nbconvert_exporter": "python",
   "pygments_lexer": "ipython3",
   "version": "3.7.6"
  }
 },
 "nbformat": 4,
 "nbformat_minor": 4
}
